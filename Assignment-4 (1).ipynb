{
 "cells": [
  {
   "cell_type": "code",
   "execution_count": 1,
   "id": "44655ae6-0d2e-487c-8a15-c43d94e922ac",
   "metadata": {},
   "outputs": [],
   "source": [
    "# Answer-1\n",
    "\n",
    "# Function is a block of code that can reuse many time by call this function.\n",
    "# def keyword is use to define a function in python this create a normal function in python.\n",
    "l=[]\n",
    "def list_odd():\n",
    "    for i in range(1,26):\n",
    "        if i%2!=0:\n",
    "            l.append(i)\n",
    "    return l"
   ]
  },
  {
   "cell_type": "code",
   "execution_count": 3,
   "id": "c17a7721-c98f-40fc-bef8-d8a46914d39e",
   "metadata": {},
   "outputs": [
    {
     "data": {
      "text/plain": [
       "[1, 3, 5, 7, 9, 11, 13, 15, 17, 19, 21, 23, 25]"
      ]
     },
     "execution_count": 3,
     "metadata": {},
     "output_type": "execute_result"
    }
   ],
   "source": [
    "list_odd()\n"
   ]
  },
  {
   "cell_type": "code",
   "execution_count": 4,
   "id": "4ef30f92-ace6-4f51-a1c4-75f204d6f94d",
   "metadata": {},
   "outputs": [],
   "source": [
    "# Answer-2\n",
    "\n",
    "# *args is used as argument in function that accept many value can pass that function we do not need to define \n",
    "# parameter previously.\n",
    "\n",
    "# **kwargs is used as argument in function that accept the dictionary so we can perform many opreation on it.\n",
    "\n",
    "def args_fun(*args):\n",
    "    return args\n",
    "\n",
    "def kwargs_fun(**kwargs):\n",
    "    return kwargs"
   ]
  },
  {
   "cell_type": "code",
   "execution_count": 5,
   "id": "410a1162-ce56-4418-9b95-792ae5069f6a",
   "metadata": {},
   "outputs": [
    {
     "data": {
      "text/plain": [
       "{'a': 2, 'b': 'abhi', 'c': True, 'd': 'hello'}"
      ]
     },
     "execution_count": 5,
     "metadata": {},
     "output_type": "execute_result"
    }
   ],
   "source": [
    "args_fun(2,4,5,2,\"abhi\",True)\n",
    "kwargs_fun(a=2,b=\"abhi\",c=True,d=\"hello\")"
   ]
  },
  {
   "cell_type": "code",
   "execution_count": 15,
   "id": "e900c465-bca6-43ec-a278-9703125d1fed",
   "metadata": {},
   "outputs": [
    {
     "name": "stdout",
     "output_type": "stream",
     "text": [
      "2\n",
      "4\n",
      "6\n",
      "8\n",
      "10\n"
     ]
    }
   ],
   "source": [
    "# Answer-3\n",
    "\n",
    "# Iterators are methods that iterate collections like lists, tuples, etc. Using an iterator method, we \n",
    "# can loop through an object and return its elements.\n",
    "\n",
    "# Technically, a Python iterator object must implement two special methods, __iter__() and __next__(), \n",
    "# collectively called the iterator protocol.\n",
    "#iter method needs itreable that can be iterate\n",
    "\n",
    "my_list = [ 2,4,6,8,10,12,14,16,18,20]\n",
    "iterator = iter(my_list)\n",
    "for i in range(5):\n",
    "    print(next(iterator))"
   ]
  },
  {
   "cell_type": "code",
   "execution_count": 21,
   "id": "821e0bf6-f667-4fee-a2d4-09e86fb47984",
   "metadata": {},
   "outputs": [
    {
     "name": "stdout",
     "output_type": "stream",
     "text": [
      "0\n",
      "1\n",
      "1\n",
      "2\n",
      "3\n"
     ]
    }
   ],
   "source": [
    "#Answer-4\n",
    "\n",
    "#generator function is used to gererate number for specific amount\n",
    "#generator function is optimization memory consumption in system\n",
    "#this function use yield keyword that generate when condition is true \n",
    "#yield keyword is used to create a gererator function and that function is optimization of memory consumption\n",
    "\n",
    "#example of generator function\n",
    "\n",
    "def fib(x):\n",
    "    a,b=0,1\n",
    "    for i in range(x):\n",
    "        yield a\n",
    "        a,b=b,a+b\n",
    "\n",
    "for i in fib(5):\n",
    "    print(i)"
   ]
  },
  {
   "cell_type": "code",
   "execution_count": 38,
   "id": "d0b8787b-68c4-472e-8342-7d3f8e1c2bed",
   "metadata": {},
   "outputs": [
    {
     "name": "stdout",
     "output_type": "stream",
     "text": [
      "2 3 5 7 11 13 17 19 23 29 31 37 41 43 47 53 59 61 67 71 "
     ]
    }
   ],
   "source": [
    "#Answer-5\n",
    "#generator function for prime number which less than 1000\n",
    "\n",
    "def is_prime(n):\n",
    "    if n<=1:\n",
    "        return False\n",
    "    for i in range(2,n):\n",
    "        if n%i==0:\n",
    "            return False\n",
    "    return True\n",
    "        \n",
    "def prime_number_less_than_1000(num):\n",
    "    for i in range(num):\n",
    "        if is_prime(i):\n",
    "            yield i\n",
    "\n",
    "prime_number=prime_number_less_than_1000(1000)\n",
    "for i in range(20):\n",
    "    print(next(prime_number),end=\" \")"
   ]
  },
  {
   "cell_type": "code",
   "execution_count": 3,
   "id": "e9dd2f8f-3437-4032-bab1-6d5cbb132215",
   "metadata": {},
   "outputs": [
    {
     "name": "stdin",
     "output_type": "stream",
     "text": [
      "enter a number 5\n"
     ]
    },
    {
     "name": "stdout",
     "output_type": "stream",
     "text": [
      "0\n",
      "1\n",
      "1\n",
      "2\n",
      "3\n",
      "5\n"
     ]
    }
   ],
   "source": [
    "#Answer-6\n",
    "\n",
    "num=int(input(\"enter a number\"))\n",
    "count=0\n",
    "a,b=0,1\n",
    "while count<num:\n",
    "    print(a)\n",
    "    a,b=b,a+b\n",
    "    count=count+1\n",
    "    "
   ]
  },
  {
   "cell_type": "code",
   "execution_count": 6,
   "id": "824b84ec-a6db-41ee-9bc1-1d177b6a1657",
   "metadata": {},
   "outputs": [
    {
     "data": {
      "text/plain": [
       "['p', 'w', 's', 'k', 'i', 'l', 'l', 's']"
      ]
     },
     "execution_count": 6,
     "metadata": {},
     "output_type": "execute_result"
    }
   ],
   "source": [
    "#Answer-7\n",
    "\n",
    "# list comprehsion is used to code reducebility so we can write code in one line but it work same as ordinary function\n",
    "str=\"pwskills\"\n",
    "[i for i in str ]\n"
   ]
  },
  {
   "cell_type": "code",
   "execution_count": 5,
   "id": "ac94ef4c-75f9-43b1-90c1-40502f5352c0",
   "metadata": {},
   "outputs": [
    {
     "name": "stdin",
     "output_type": "stream",
     "text": [
      "Enter a number 121\n"
     ]
    },
    {
     "name": "stdout",
     "output_type": "stream",
     "text": [
      "Given number is palindrom\n"
     ]
    }
   ],
   "source": [
    "#Answer-8\n",
    "\n",
    "#code for check given number is palindrom or not .\n",
    "#palindrom means when forward and reverse it same \n",
    "\n",
    "num=int(input(\"Enter a number\"))\n",
    "real_num=num\n",
    "rev_num=0\n",
    "while num>0:\n",
    "    rem=(num%10)\n",
    "    rev_num=rev_num*10+rem\n",
    "    num=num//10\n",
    "if real_num==rev_num:\n",
    "    print(\"Given number is palindrom\")\n",
    "else:\n",
    "    print(\"Not\")\n"
   ]
  },
  {
   "cell_type": "code",
   "execution_count": 9,
   "id": "dde8e364-c73f-487e-afa7-9a7948a6cc45",
   "metadata": {},
   "outputs": [],
   "source": [
    "#Answer-9\n",
    "\n",
    "#list comprehension for 1 to 100 number\n",
    "list=[i for i in range(1,101)]\n",
    "\n",
    "#list comprehension for odd number \n",
    "odd_list=[i for i in list if i%2!=0 ]"
   ]
  },
  {
   "cell_type": "code",
   "execution_count": 11,
   "id": "05ea5b9c-a0a8-4afc-b976-4b635f8b5cc0",
   "metadata": {},
   "outputs": [
    {
     "name": "stdout",
     "output_type": "stream",
     "text": [
      "1 3 5 7 9 11 13 15 17 19 21 23 25 27 29 31 33 35 37 39 41 43 45 47 49 51 53 55 57 59 61 63 65 67 69 71 73 75 77 79 81 83 85 87 89 91 93 95 97 99 "
     ]
    }
   ],
   "source": [
    "for i in odd_list:\n",
    "    print(i,end=\" \")"
   ]
  },
  {
   "cell_type": "code",
   "execution_count": null,
   "id": "cf306fb2-f6b2-4ab9-8182-5177871a69a7",
   "metadata": {},
   "outputs": [],
   "source": []
  }
 ],
 "metadata": {
  "kernelspec": {
   "display_name": "Python 3 (ipykernel)",
   "language": "python",
   "name": "python3"
  },
  "language_info": {
   "codemirror_mode": {
    "name": "ipython",
    "version": 3
   },
   "file_extension": ".py",
   "mimetype": "text/x-python",
   "name": "python",
   "nbconvert_exporter": "python",
   "pygments_lexer": "ipython3",
   "version": "3.10.8"
  }
 },
 "nbformat": 4,
 "nbformat_minor": 5
}
